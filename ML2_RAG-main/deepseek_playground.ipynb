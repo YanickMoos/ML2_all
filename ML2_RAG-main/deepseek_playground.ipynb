{
  "cells": [
    {
      "cell_type": "markdown",
      "metadata": {
        "colab_type": "text",
        "id": "view-in-github"
      },
      "source": [
        "<a href=\"https://colab.research.google.com/github/zhaw-iwi/LLM-Intro/blob/main/deepseek_playground.ipynb\" target=\"_parent\"><img src=\"https://colab.research.google.com/assets/colab-badge.svg\" alt=\"Open In Colab\"/></a>"
      ]
    },
    {
      "cell_type": "markdown",
      "metadata": {
        "id": "CW5OR6j3rlKr"
      },
      "source": [
        "# Example to Run Deepseek locally / in Google colab with ollama\n",
        "\n",
        "Prerequisites: Nvidia GPU with Cuda, Unix/Linux environment\n"
      ]
    },
    {
      "cell_type": "markdown",
      "metadata": {
        "id": "-AT4q4xirS1c"
      },
      "source": [
        "## Download ollama and install ollama"
      ]
    },
    {
      "cell_type": "code",
      "execution_count": 1,
      "metadata": {
        "id": "d6S8YeTK6KNV"
      },
      "outputs": [
        {
          "name": "stdout",
          "output_type": "stream",
          "text": [
            "  % Total    % Received % Xferd  Average Speed   Time    Time     Time  Current\n",
            "                                 Dload  Upload   Total   Spent    Left  Speed\n",
            "100 13281    0 13281    0     0  47263      0 --:--:-- --:--:-- --:--:-- 47263\n",
            ">>> Installing ollama to /usr/local\n",
            ">>> Downloading Linux amd64 bundle\n",
            "######################################################################## 100.0%                                                        11.6%##                                                                14.0% 14.1%\n",
            ">>> Creating ollama user...\n",
            ">>> Adding ollama user to video group...\n",
            ">>> Adding current user to ollama group...\n",
            ">>> Creating ollama systemd service...\n",
            "\u001b[1m\u001b[31mWARNING:\u001b[m systemd is not running\n",
            "\u001b[1m\u001b[31mWARNING:\u001b[m Unable to detect NVIDIA/AMD GPU. Install lspci or lshw to automatically detect and install GPU dependencies.\n",
            ">>> The Ollama API is now available at 127.0.0.1:11434.\n",
            ">>> Install complete. Run \"ollama\" from the command line.\n"
          ]
        }
      ],
      "source": [
        "!curl https://ollama.ai/install.sh | sh"
      ]
    },
    {
      "cell_type": "markdown",
      "metadata": {
        "id": "jlJvBg6xrEq1"
      },
      "source": [
        "## Install cuda drivers\n",
        "- The first command disables the interactive shell, as we do not have access to it in colab\n",
        "- the second command installs the latest version of the cuda drivers to optimize the inference (predicition) of the model"
      ]
    },
    {
      "cell_type": "code",
      "execution_count": 2,
      "metadata": {
        "id": "7LoyBqh46Y1c"
      },
      "outputs": [
        {
          "name": "stdout",
          "output_type": "stream",
          "text": [
            "Get:1 https://packages.microsoft.com/repos/microsoft-ubuntu-focal-prod focal InRelease [3632 B]\n",
            "Get:2 https://dl.yarnpkg.com/debian stable InRelease [17.1 kB]                 \n",
            "Get:3 https://repo.anaconda.com/pkgs/misc/debrepo/conda stable InRelease [3961 B]\n",
            "Get:4 https://packages.microsoft.com/repos/microsoft-ubuntu-focal-prod focal/main amd64 Packages [350 kB]\n",
            "Get:5 https://packages.microsoft.com/repos/microsoft-ubuntu-focal-prod focal/main all Packages [2938 B]\n",
            "Get:6 https://dl.yarnpkg.com/debian stable/main all Packages [11.8 kB]         \n",
            "Get:7 https://dl.yarnpkg.com/debian stable/main amd64 Packages [11.8 kB]       \n",
            "Get:8 http://security.ubuntu.com/ubuntu focal-security InRelease [128 kB]      \n",
            "Get:9 http://archive.ubuntu.com/ubuntu focal InRelease [265 kB]                \n",
            "Get:10 https://repo.anaconda.com/pkgs/misc/debrepo/conda stable/main amd64 Packages [4557 B]\n",
            "Get:11 http://security.ubuntu.com/ubuntu focal-security/multiverse amd64 Packages [33.1 kB]\n",
            "Get:12 http://security.ubuntu.com/ubuntu focal-security/restricted amd64 Packages [4714 kB]\n",
            "Get:13 http://security.ubuntu.com/ubuntu focal-security/universe amd64 Packages [1308 kB]\n",
            "Get:14 http://security.ubuntu.com/ubuntu focal-security/main amd64 Packages [4391 kB]\n",
            "Get:16 http://archive.ubuntu.com/ubuntu focal-updates InRelease [128 kB]       \n",
            "Get:15 https://packagecloud.io/github/git-lfs/ubuntu focal InRelease [29.1 kB]\n",
            "Get:17 http://archive.ubuntu.com/ubuntu focal-backports InRelease [128 kB]\n",
            "Get:18 http://archive.ubuntu.com/ubuntu focal/restricted amd64 Packages [33.4 kB]\n",
            "Get:19 http://archive.ubuntu.com/ubuntu focal/multiverse amd64 Packages [177 kB]\n",
            "Get:20 http://archive.ubuntu.com/ubuntu focal/universe amd64 Packages [11.3 MB]\n",
            "Get:21 http://archive.ubuntu.com/ubuntu focal/main amd64 Packages [1275 kB]    \n",
            "Get:22 http://archive.ubuntu.com/ubuntu focal-updates/main amd64 Packages [4879 kB]\n",
            "Get:23 http://archive.ubuntu.com/ubuntu focal-updates/multiverse amd64 Packages [36.8 kB]\n",
            "Get:24 http://archive.ubuntu.com/ubuntu focal-updates/universe amd64 Packages [1599 kB]\n",
            "Get:25 http://archive.ubuntu.com/ubuntu focal-updates/restricted amd64 Packages [4914 kB]\n",
            "Get:27 http://archive.ubuntu.com/ubuntu focal-backports/main amd64 Packages [55.2 kB]\n",
            "Get:28 http://archive.ubuntu.com/ubuntu focal-backports/universe amd64 Packages [28.6 kB]\n",
            "Get:26 https://packagecloud.io/github/git-lfs/ubuntu focal/main amd64 Packages [4064 B]\n",
            "Fetched 35.9 MB in 3s (12.4 MB/s)                           \n",
            "Reading package lists... Done\n",
            "Reading package lists... Done\n",
            "Building dependency tree       \n",
            "Reading state information... Done\n",
            "E: Unable to locate package cuda-drivers\n"
          ]
        }
      ],
      "source": [
        "!echo 'debconf debconf/frontend select Noninteractive' | sudo debconf-set-selections\n",
        "!sudo apt-get update && sudo apt-get install -y cuda-drivers"
      ]
    },
    {
      "cell_type": "markdown",
      "metadata": {
        "id": "2q_Q7kV2v7gO"
      },
      "source": [
        "## Ensure the cuda drivers are used"
      ]
    },
    {
      "cell_type": "code",
      "execution_count": null,
      "metadata": {
        "id": "gUrQilPb8OrF"
      },
      "outputs": [],
      "source": [
        "import os\n",
        "\n",
        "# Set LD_LIBRARY_PATH so the system NVIDIA library\n",
        "os.environ.update({'LD_LIBRARY_PATH': '/usr/lib64-nvidia'})"
      ]
    },
    {
      "cell_type": "markdown",
      "metadata": {
        "id": "J4QHwiEQwExX"
      },
      "source": [
        "## Start Ollama\n",
        "- nohup is a command line expression that prevents a process from stopping after exiting the terminal."
      ]
    },
    {
      "cell_type": "code",
      "execution_count": null,
      "metadata": {
        "id": "j4ilhzAr8fsd"
      },
      "outputs": [],
      "source": [
        "!nohup ollama serve &"
      ]
    },
    {
      "cell_type": "markdown",
      "metadata": {
        "id": "zLMt1JHsy3ar"
      },
      "source": [
        "# Donwload the deepseek model"
      ]
    },
    {
      "cell_type": "code",
      "execution_count": null,
      "metadata": {
        "collapsed": true,
        "id": "wtKX5IKT8hxY"
      },
      "outputs": [],
      "source": [
        "!ollama pull deepseek-r1:7b"
      ]
    },
    {
      "cell_type": "markdown",
      "metadata": {
        "id": "mETEp74Zy8v0"
      },
      "source": [
        "## Install ollama in your Python environment"
      ]
    },
    {
      "cell_type": "code",
      "execution_count": null,
      "metadata": {
        "id": "Go_E2l-k8lp4"
      },
      "outputs": [],
      "source": [
        "!pip install ollama"
      ]
    },
    {
      "cell_type": "code",
      "execution_count": null,
      "metadata": {
        "id": "Z4jvKBtGzCYL"
      },
      "outputs": [],
      "source": []
    },
    {
      "cell_type": "markdown",
      "metadata": {
        "id": "nqTaBWx3zGQz"
      },
      "source": [
        "## Example model request"
      ]
    },
    {
      "cell_type": "code",
      "execution_count": null,
      "metadata": {
        "id": "A1Q3HqLY-RMf"
      },
      "outputs": [],
      "source": [
        "import ollama\n",
        "response = ollama.chat(model='deepseek-r1:7b', messages=[\n",
        "  {\n",
        "    'role': 'user',\n",
        "    'content': \"How many r's are in a strawberry?\",\n",
        "  },\n",
        "])\n",
        "print(response['message']['content'])"
      ]
    }
  ],
  "metadata": {
    "colab": {
      "authorship_tag": "ABX9TyMuTFP4BXerX+HEez+0ROdR",
      "include_colab_link": true,
      "provenance": []
    },
    "kernelspec": {
      "display_name": "Python 3",
      "name": "python3"
    },
    "language_info": {
      "codemirror_mode": {
        "name": "ipython",
        "version": 3
      },
      "file_extension": ".py",
      "mimetype": "text/x-python",
      "name": "python",
      "nbconvert_exporter": "python",
      "pygments_lexer": "ipython3",
      "version": "3.12.1"
    }
  },
  "nbformat": 4,
  "nbformat_minor": 0
}
